{
 "cells": [
  {
   "cell_type": "markdown",
   "metadata": {},
   "source": [
    "# Exercise 1: Types of Sensors\n",
    "\n",
    "\n",
    "In this tutorial, we learn about sensors and how to use them in robotics. For the practicity of the tutorial, we make use of a pure python simulator of the simple pioneer robot from MobileRobots.\n",
    "\n",
    "![Pioneer Robot](imgs/pioneer.jpg \"Simple Pioneer Robot\" )\n",
    "\n",
    "\n",
    "1. Why do robots need sensors? Highlight the relation between environment, robot, effector, sensor.\n",
    "\n",
    "1. What tasks can this robot perform?\n",
    "\n",
    "2. Which sensors are needed for accomplishing these tasks? Why?\n",
    "\n",
    "3. Which sensors and effectors can you already identify from the robot's picture?"
   ]
  },
  {
   "cell_type": "markdown",
   "metadata": {
    "scrolled": true
   },
   "source": [
    "5. Let build a virtual 3D environment for pioneer with objects, obstacles and light sources, in which pioneer can navigate while avoiding obstacles to pick objects up and transport them to specific places. Moreover, pioneer should also look for light sources in order to recharche its battery, which in turn keep it alive."
   ]
  },
  {
   "cell_type": "code",
   "execution_count": 1,
   "metadata": {},
   "outputs": [],
   "source": [
    "# Load and extends all components from the pioneer simulator\n",
    "from simulator import *"
   ]
  },
  {
   "cell_type": "code",
   "execution_count": 2,
   "metadata": {},
   "outputs": [],
   "source": [
    "# build a function for creating the world. You can customize this function for your own world\n",
    "def make_world(physics):\n",
    "    physics.addBox(0, 0, 5, 5, fill=\"backgroundgreen\", wallcolor=\"lightgrey\") # meters\n",
    "    physics.addBox(1, 1, 2, 2, fill=\"purple\")\n",
    "    physics.addBox(1, 4, 1.1, 4.1, fill=\"red\",wallcolor=\"red\")\n",
    "    physics.addLight(4, 4, 2.25, color=Color(255, 255, 0, 64))"
   ]
  },
  {
   "cell_type": "code",
   "execution_count": 3,
   "metadata": {},
   "outputs": [],
   "source": [
    "# build a function for creating the robot. You can customize this function for your own robot\n",
    "def make_robot():\n",
    "    robot = Pioneer(\"Pioneer\", 2, 1, 0) #paremeters are name, x, y, heading (in radians)\n",
    "    robot.addDevice(Camera()) # adding color image\n",
    "    robot.addDevice(Gripper()) # adding gripper\n",
    "    robot.addDevice(Sonar(maxRange=2)) # adding 16-range sonar\n",
    "    robot.addDevice( PioneerFrontLightSensors(3)) # adding front light sensor\n",
    "    robot.addDevice(Speaker()) # adding speaker\n",
    "    depth_camera=DepthCamera(maxDist=2.0)\n",
    "    depth_camera.type=\"depth_camera\"\n",
    "    robot.addDevice(depth_camera) # adding depth camera\n",
    "    \n",
    "    return robot"
   ]
  },
  {
   "cell_type": "code",
   "execution_count": 4,
   "metadata": {},
   "outputs": [],
   "source": [
    "# instantiate the robot\n",
    "robot = make_robot()"
   ]
  },
  {
   "cell_type": "code",
   "execution_count": 5,
   "metadata": {},
   "outputs": [
    {
     "data": {
      "application/vnd.jupyter.widget-view+json": {
       "model_id": "f32803d2c69b4a3795daca477a90b95e",
       "version_major": 2,
       "version_minor": 0
      },
      "text/plain": [
       "VBox(children=(VBox(children=(HBox(children=(Checkbox(value=True, description='Update GUI'), Checkbox(value=Fa…"
      ]
     },
     "metadata": {},
     "output_type": "display_data"
    }
   ],
   "source": [
    "# Instantiate and visualize the environment\n",
    "vsim=VSimulator(robot, make_world, gamepad=True)"
   ]
  },
  {
   "cell_type": "markdown",
   "metadata": {},
   "source": [
    "6. Let use onboard sensors to sense the state of the robot and its environment. Give a name to each of these sensors and examine the format of the sensor data."
   ]
  },
  {
   "cell_type": "code",
   "execution_count": 6,
   "metadata": {},
   "outputs": [
    {
     "data": {
      "text/plain": [
       "(2.175, 1.0900000000000003, 0.0)"
      ]
     },
     "execution_count": 6,
     "metadata": {},
     "output_type": "execute_result"
    }
   ],
   "source": [
    "# sensing the pose of the robot (which sensor is used? What is the format of data?)\n",
    "robot.getPose()"
   ]
  },
  {
   "cell_type": "code",
   "execution_count": 7,
   "metadata": {},
   "outputs": [
    {
     "data": {
      "image/jpeg": "[encoded data removed]",
      "image/png": "[encoded data removed]",
      "text/plain": [
       "<PIL.Image.Image image mode=RGB size=60x40>"
      ]
     },
     "execution_count": 7,
     "metadata": {},
     "output_type": "execute_result"
    }
   ],
   "source": [
    "# sensing the visual scene (which sensor is used? What is the format of data?)\n",
    "robot.device['camera'].getImage()"
   ]
  },
  {
   "cell_type": "code",
   "execution_count": 8,
   "metadata": {},
   "outputs": [],
   "source": [
    "# robot.device['camera'].getData()"
   ]
  },
  {
   "cell_type": "code",
   "execution_count": 8,
   "metadata": {},
   "outputs": [
    {
     "data": {
      "image/jpeg": "[encoded data removed]",
      "image/png": "[encoded data removed]",
      "text/plain": [
       "<PIL.Image.Image image mode=RGB size=60x40>"
      ]
     },
     "execution_count": 8,
     "metadata": {},
     "output_type": "execute_result"
    }
   ],
   "source": [
    "# sensing the scene depth (which sensor is used? What is the format of data?)\n",
    "robot.device['depth_camera'].getImage()"
   ]
  },
  {
   "cell_type": "code",
   "execution_count": 9,
   "metadata": {},
   "outputs": [],
   "source": [
    "# robot.device['depth_camera'].getData()"
   ]
  },
  {
   "cell_type": "code",
   "execution_count": 10,
   "metadata": {},
   "outputs": [
    {
     "data": {
      "text/plain": [
       "[0.0, 0.0]"
      ]
     },
     "execution_count": 10,
     "metadata": {},
     "output_type": "execute_result"
    }
   ],
   "source": [
    "# sensing scene light (which sensor is used? What is the format of data?)\n",
    "robot.device['light'].getData()"
   ]
  },
  {
   "cell_type": "code",
   "execution_count": 11,
   "metadata": {},
   "outputs": [
    {
     "data": {
      "text/plain": [
       "[4.663557681687864e-05,\n",
       " 0.027584451585811805,\n",
       " 0.10112206137139407,\n",
       " 0.482962960526954,\n",
       " 2,\n",
       " 2,\n",
       " 2,\n",
       " 2,\n",
       " 2,\n",
       " 2,\n",
       " 1.1618125056659057,\n",
       " 0.8955138827377273,\n",
       " 0.8955138827377273,\n",
       " 1.1618125056659057,\n",
       " 2,\n",
       " 2.0037092595143577]"
      ]
     },
     "execution_count": 11,
     "metadata": {},
     "output_type": "execute_result"
    }
   ],
   "source": [
    "# sensing scene obstacles (which sensor is used? What is the format of data?)\n",
    "robot.device['sonar'].getData()"
   ]
  },
  {
   "cell_type": "code",
   "execution_count": 13,
   "metadata": {},
   "outputs": [
    {
     "data": {
      "text/plain": [
       "(0.12, 0.225, False, 0.0)"
      ]
     },
     "execution_count": 13,
     "metadata": {},
     "output_type": "execute_result"
    }
   ],
   "source": [
    "# sensing gripper state (which sensor is used? What is the format of data?)\n",
    "(robot.device['gripper'].armPosition,\n",
    " robot.device['gripper'].pose[0], \n",
    " robot.device['gripper'].isMoving(),\n",
    " robot.device['gripper'].velocity)"
   ]
  },
  {
   "cell_type": "code",
   "execution_count": 14,
   "metadata": {},
   "outputs": [
    {
     "name": "stdout",
     "output_type": "stream",
     "text": [
      "Actual Energy:  10000.0 , Energy Lost per Step:  1.0\n"
     ]
    }
   ],
   "source": [
    "# sensing the robot battery which sensor is used? What is the format of data?)\n",
    "print(\"Actual Energy: \", robot.energy, \", Energy Lost per Step: \", robot.maxEnergyCostPerStep)"
   ]
  },
  {
   "cell_type": "markdown",
   "metadata": {},
   "source": [
    "7. Let quickly analyze the available effectors of the pioneer robot"
   ]
  },
  {
   "cell_type": "code",
   "execution_count": 15,
   "metadata": {},
   "outputs": [
    {
     "data": {
      "image/svg+xml": [
       "<svg baseProfile=\"full\" height=\"400\" version=\"1.1\" width=\"400\" xmlns=\"http://www.w3.org/2000/svg\" xmlns:ev=\"http://www.w3.org/2001/xml-events\" xmlns:xlink=\"http://www.w3.org/1999/xlink\"><defs /><rect fill=\"#eef3dd\" height=\"400.0\" stroke=\"#d3d3d3\" stroke-width=\"1\" width=\"400.0\" x=\"0.0\" y=\"0.0\" /><rect fill=\"#a020f0\" height=\"80.0\" stroke=\"#a020f0\" stroke-width=\"1\" width=\"80.0\" x=\"80.0\" y=\"240.0\" /><rect fill=\"#ff0000\" height=\"7.999999999999972\" stroke=\"#ff0000\" stroke-width=\"1\" width=\"8.0\" x=\"80.0\" y=\"72.00000000000003\" /><circle cx=\"320.0\" cy=\"80.0\" fill=\"rgba(255,255,0,0.25098039215686274)\" r=\"20.0\" stroke=\"rgba(255,255,0,0.25098039215686274)\" stroke-width=\"1\" /><line fill=\"#800080\" stroke=\"#a020f0\" stroke-width=\"1\" x1=\"160.0\" x2=\"160.0\" y1=\"320.0\" y2=\"320.0\" /><line fill=\"#800080\" stroke=\"#a020f0\" stroke-width=\"1\" x1=\"160.0\" x2=\"160.0\" y1=\"320.0\" y2=\"320.0\" /><line fill=\"#800080\" stroke=\"#add8e6\" stroke-width=\"1\" x1=\"146.0\" x2=\"80.0\" y1=\"312.0\" y2=\"312.0\" /><line fill=\"#800080\" stroke=\"#add8e6\" stroke-width=\"1\" x1=\"148.0\" x2=\"80.0\" y1=\"306.4\" y2=\"274.69108\" /><line fill=\"#800080\" stroke=\"#add8e6\" stroke-width=\"1\" x1=\"151.20000000000002\" x2=\"97.49762366985928\" y1=\"304.0\" y2=\"240.0\" /><line fill=\"#800080\" stroke=\"#add8e6\" stroke-width=\"1\" x1=\"156.0\" x2=\"139.3871508930157\" y1=\"302.0\" y2=\"240.0\" /><line fill=\"#800080\" stroke=\"#d3d3d3\" stroke-width=\"1\" x1=\"164.0\" x2=\"205.4110472164033\" y1=\"302.0\" y2=\"147.45186779374905\" /><line fill=\"#800080\" stroke=\"#d3d3d3\" stroke-width=\"1\" x1=\"168.79999999999998\" x2=\"271.64601754984625\" y1=\"304.0\" y2=\"181.4328891009635\" /><line fill=\"#800080\" stroke=\"#d3d3d3\" stroke-width=\"1\" x1=\"172.0\" x2=\"317.009245925864\" y1=\"306.4\" y2=\"238.7810781214881\" /><line fill=\"#800080\" stroke=\"#d3d3d3\" stroke-width=\"1\" x1=\"174.0\" x2=\"334.0\" y1=\"312.0\" y2=\"311.99999999999994\" /><line fill=\"#800080\" stroke=\"#d3d3d3\" stroke-width=\"1\" x1=\"174.0\" x2=\"334.0\" y1=\"328.0\" y2=\"328.0\" /><line fill=\"#800080\" stroke=\"#add8e6\" stroke-width=\"1\" x1=\"172.0\" x2=\"314.3952704180674\" y1=\"333.6\" y2=\"400.0\" /><line fill=\"#800080\" stroke=\"#add8e6\" stroke-width=\"1\" x1=\"168.79999999999998\" x2=\"222.50237633014075\" y1=\"336.0\" y2=\"400.0\" /><line fill=\"#800080\" stroke=\"#add8e6\" stroke-width=\"1\" x1=\"164.0\" x2=\"180.6128491069843\" y1=\"338.0\" y2=\"400.0\" /><line fill=\"#800080\" stroke=\"#add8e6\" stroke-width=\"1\" x1=\"156.0\" x2=\"139.3871508930157\" y1=\"338.0\" y2=\"400.0\" /><line fill=\"#800080\" stroke=\"#add8e6\" stroke-width=\"1\" x1=\"151.2\" x2=\"97.49762366985928\" y1=\"336.0\" y2=\"400.0\" /><line fill=\"#800080\" stroke=\"#add8e6\" stroke-width=\"1\" x1=\"148.0\" x2=\"5.604729581932613\" y1=\"333.6\" y2=\"400.0\" /><line fill=\"#800080\" stroke=\"#add8e6\" stroke-width=\"1\" x1=\"146.0\" x2=\"0.0\" y1=\"328.0\" y2=\"328.0\" /><line fill=\"#800080\" stroke=\"#a020f0\" stroke-width=\"1\" x1=\"320.0\" x2=\"160.0\" y1=\"80.0\" y2=\"284.13793599999997\" /><line fill=\"#800080\" stroke=\"#ffa500\" stroke-width=\"1\" x1=\"320.0\" x2=\"174.0\" y1=\"80.0\" y2=\"302.0\" /><line fill=\"#800080\" stroke=\"#a020f0\" stroke-width=\"1\" x1=\"160.0\" x2=\"160.0\" y1=\"320.0\" y2=\"320.0\" /><line fill=\"#800080\" stroke=\"#a020f0\" stroke-width=\"1\" x1=\"160.0\" x2=\"160.0\" y1=\"320.0\" y2=\"320.0\" /><polygon fill=\"red\" points=\"153.6,302.0 146.0,308.0 146.0,332.0 153.6,338.0 166.4,338.0 174.0,332.0 174.0,308.0 166.4,302.0\" stroke=\"red\" stroke-width=\"1\" /><polygon points=\"-4.0,-4.0 0,0 4.0,-4.0 0,4.0\" stroke=\"black\" stroke-width=\"1\" transform=\"translate(160.0,320.0) rotate(180.0)\" /><polygon fill=\"black\" points=\"164.8,308.8 164.8,315.2 155.2,315.2 155.2,308.8\" stroke=\"black\" stroke-width=\"1\" /><line fill=\"#800080\" stroke=\"black\" stroke-width=\"1\" x1=\"150.39999999999998\" x2=\"169.60000000000002\" y1=\"302.0\" y2=\"302.0\" /><polygon fill=\"black\" points=\"149.60000000000002,302.0 149.60000000000002,286.0 151.2,286.0 151.2,302.0\" stroke=\"black\" stroke-width=\"1\" /><polygon fill=\"black\" points=\"168.79999999999998,302.0 168.79999999999998,286.0 170.39999999999998,286.0 170.39999999999998,302.0\" stroke=\"black\" stroke-width=\"1\" /><circle cx=\"146.0\" cy=\"302.0\" fill=\"yellow\" r=\"2.0\" stroke=\"orange\" stroke-width=\"1\" /><circle cx=\"174.0\" cy=\"302.0\" fill=\"yellow\" r=\"2.0\" stroke=\"orange\" stroke-width=\"1\" /><polygon fill=\"black\" points=\"164.8,308.8 164.8,315.2 155.2,315.2 155.2,308.8\" stroke=\"black\" stroke-width=\"1\" /><text fill=\"#800080\" stroke=\"red\" stroke-width=\"1\" x=\"176.0\" y=\"304.0\">Light found</text></svg>"
      ],
      "text/plain": [
       "<jyro.simulator.canvas.Canvas at 0x7fb159ea4250>"
      ]
     },
     "execution_count": 15,
     "metadata": {},
     "output_type": "execute_result"
    }
   ],
   "source": [
    "# speak through speakers\n",
    "robot.device['speech'].speak(robot, vsim.canvas, 'Light found')\n",
    "vsim.canvas"
   ]
  },
  {
   "cell_type": "code",
   "execution_count": 12,
   "metadata": {},
   "outputs": [
    {
     "name": "stdout",
     "output_type": "stream",
     "text": [
      "0.11\n"
     ]
    },
    {
     "data": {
      "image/svg+xml": [
       "<svg baseProfile=\"full\" height=\"400\" version=\"1.1\" width=\"400\" xmlns=\"http://www.w3.org/2000/svg\" xmlns:ev=\"http://www.w3.org/2001/xml-events\" xmlns:xlink=\"http://www.w3.org/1999/xlink\"><defs /><rect fill=\"#eef3dd\" height=\"400.0\" stroke=\"#d3d3d3\" stroke-width=\"1\" width=\"400.0\" x=\"0.0\" y=\"0.0\" /><rect fill=\"#a020f0\" height=\"80.0\" stroke=\"#a020f0\" stroke-width=\"1\" width=\"80.0\" x=\"80.0\" y=\"240.0\" /><rect fill=\"#ff0000\" height=\"7.999999999999972\" stroke=\"#ff0000\" stroke-width=\"1\" width=\"8.0\" x=\"80.0\" y=\"72.00000000000003\" /><circle cx=\"320.0\" cy=\"80.0\" fill=\"rgba(255,255,0,0.25098039215686274)\" r=\"20.0\" stroke=\"rgba(255,255,0,0.25098039215686274)\" stroke-width=\"1\" /><line fill=\"#800080\" stroke=\"#a020f0\" stroke-width=\"1\" x1=\"174.0\" x2=\"160.0\" y1=\"312.79999999999995\" y2=\"304.717096\" /><line fill=\"#800080\" stroke=\"#a020f0\" stroke-width=\"1\" x1=\"174.0\" x2=\"400.0\" y1=\"312.79999999999995\" y2=\"182.31883200000001\" /><line fill=\"#800080\" stroke=\"#add8e6\" stroke-width=\"1\" x1=\"159.99999999999997\" x2=\"160.0\" y1=\"304.79999999999995\" y2=\"304.8\" /><line fill=\"#800080\" stroke=\"#add8e6\" stroke-width=\"1\" x1=\"162.0\" x2=\"160.0\" y1=\"299.2\" y2=\"298.267384\" /><line fill=\"#800080\" stroke=\"#add8e6\" stroke-width=\"1\" x1=\"165.2\" x2=\"160.0\" y1=\"296.8\" y2=\"290.60288\" /><line fill=\"#800080\" stroke=\"#add8e6\" stroke-width=\"1\" x1=\"170.0\" x2=\"160.0\" y1=\"294.79999999999995\" y2=\"257.47948799999995\" /><line fill=\"#800080\" stroke=\"#d3d3d3\" stroke-width=\"1\" x1=\"177.99999999999997\" x2=\"219.4110472164033\" y1=\"294.79999999999995\" y2=\"140.25186779374906\" /><line fill=\"#800080\" stroke=\"#d3d3d3\" stroke-width=\"1\" x1=\"182.79999999999998\" x2=\"285.64601754984625\" y1=\"296.8\" y2=\"174.2328891009635\" /><line fill=\"#800080\" stroke=\"#d3d3d3\" stroke-width=\"1\" x1=\"185.99999999999997\" x2=\"331.009245925864\" y1=\"299.2\" y2=\"231.58107812148808\" /><line fill=\"#800080\" stroke=\"#d3d3d3\" stroke-width=\"1\" x1=\"187.99999999999997\" x2=\"348.0\" y1=\"304.79999999999995\" y2=\"304.79999999999995\" /><line fill=\"#800080\" stroke=\"#d3d3d3\" stroke-width=\"1\" x1=\"187.99999999999997\" x2=\"348.0\" y1=\"320.79999999999995\" y2=\"320.79999999999995\" /><line fill=\"#800080\" stroke=\"#d3d3d3\" stroke-width=\"1\" x1=\"185.99999999999997\" x2=\"331.00924592586404\" y1=\"326.4\" y2=\"394.01892187851183\" /><line fill=\"#800080\" stroke=\"#add8e6\" stroke-width=\"1\" x1=\"182.79999999999998\" x2=\"242.54389497963336\" y1=\"328.79999999999995\" y2=\"400.0\" /><line fill=\"#800080\" stroke=\"#add8e6\" stroke-width=\"1\" x1=\"177.99999999999997\" x2=\"196.54208351076036\" y1=\"330.79999999999995\" y2=\"400.0\" /><line fill=\"#800080\" stroke=\"#add8e6\" stroke-width=\"1\" x1=\"170.0\" x2=\"151.45791691795836\" y1=\"330.79999999999995\" y2=\"400.0\" /><line fill=\"#800080\" stroke=\"#add8e6\" stroke-width=\"1\" x1=\"165.2\" x2=\"105.45610770548544\" y1=\"328.79999999999995\" y2=\"400.0\" /><line fill=\"#800080\" stroke=\"#d3d3d3\" stroke-width=\"1\" x1=\"162.0\" x2=\"16.990754074135985\" y1=\"326.4\" y2=\"394.0189218785119\" /><line fill=\"#800080\" stroke=\"#add8e6\" stroke-width=\"1\" x1=\"159.99999999999997\" x2=\"0.0\" y1=\"320.79999999999995\" y2=\"320.79999999999995\" /><line fill=\"#800080\" stroke=\"#ffa500\" stroke-width=\"1\" x1=\"320.0\" x2=\"159.99999999999997\" y1=\"80.0\" y2=\"294.79999999999995\" /><line fill=\"#800080\" stroke=\"#ffa500\" stroke-width=\"1\" x1=\"320.0\" x2=\"187.99999999999997\" y1=\"80.0\" y2=\"294.79999999999995\" /><line fill=\"#800080\" stroke=\"#a020f0\" stroke-width=\"1\" x1=\"174.0\" x2=\"160.0\" y1=\"312.79999999999995\" y2=\"304.717096\" /><line fill=\"#800080\" stroke=\"#a020f0\" stroke-width=\"1\" x1=\"174.0\" x2=\"400.0\" y1=\"312.79999999999995\" y2=\"182.31883200000001\" /><polygon fill=\"red\" points=\"167.59999999999997,294.79999999999995 159.99999999999997,300.79999999999995 159.99999999999997,324.79999999999995 167.59999999999997,330.79999999999995 180.39999999999998,330.79999999999995 187.99999999999997,324.79999999999995 187.99999999999997,300.79999999999995 180.39999999999998,294.79999999999995\" stroke=\"red\" stroke-width=\"1\" /><polygon points=\"-4.0,-4.0 0,0 4.0,-4.0 0,4.0\" stroke=\"black\" stroke-width=\"1\" transform=\"translate(174.0,312.79999999999995) rotate(180.0)\" /><polygon fill=\"black\" points=\"178.79999999999998,301.59999999999997 178.79999999999998,308.0 169.2,308.0 169.2,301.59999999999997\" stroke=\"black\" stroke-width=\"1\" /><line fill=\"#800080\" stroke=\"black\" stroke-width=\"1\" x1=\"164.39999999999998\" x2=\"183.6\" y1=\"294.79999999999995\" y2=\"294.79999999999995\" /><polygon fill=\"black\" points=\"164.39999999999998,294.79999999999995 164.39999999999998,278.79999999999995 165.99999999999997,278.79999999999995 165.99999999999997,294.79999999999995\" stroke=\"black\" stroke-width=\"1\" /><polygon fill=\"black\" points=\"182.0,294.79999999999995 182.0,278.79999999999995 183.6,278.79999999999995 183.6,294.79999999999995\" stroke=\"black\" stroke-width=\"1\" /><circle cx=\"159.99999999999997\" cy=\"294.79999999999995\" fill=\"yellow\" r=\"2.0\" stroke=\"orange\" stroke-width=\"1\" /><circle cx=\"187.99999999999997\" cy=\"294.79999999999995\" fill=\"yellow\" r=\"2.0\" stroke=\"orange\" stroke-width=\"1\" /><polygon fill=\"black\" points=\"178.79999999999998,301.59999999999997 178.79999999999998,308.0 169.2,308.0 169.2,301.59999999999997\" stroke=\"black\" stroke-width=\"1\" /></svg>"
      ],
      "text/plain": [
       "<jyro.simulator.canvas.Canvas at 0x231cdfc6540>"
      ]
     },
     "execution_count": 12,
     "metadata": {},
     "output_type": "execute_result"
    }
   ],
   "source": [
    "# move grippers\n",
    "robot.device['gripper'].close()\n",
    "#robot.device['gripper'].open()\n",
    "robot.device['gripper'].step()\n",
    "robot.device['gripper'].stop()\n",
    "#robot.device['gripper'].update(robot)\n",
    "vsim.update()\n",
    "print(robot.device['gripper'].armPosition)\n",
    "vsim.canvas\n"
   ]
  },
  {
   "cell_type": "code",
   "execution_count": 13,
   "metadata": {},
   "outputs": [
    {
     "name": "stdout",
     "output_type": "stream",
     "text": [
      "(2.5, 2.5, 0.0)\n"
     ]
    }
   ],
   "source": [
    "# pose the robot\n",
    "robot.setPose(2.5, 2.5, a = 0)\n",
    "print(robot.getPose())"
   ]
  },
  {
   "cell_type": "code",
   "execution_count": 18,
   "metadata": {},
   "outputs": [
    {
     "data": {
      "image/svg+xml": [
       "<svg baseProfile=\"full\" height=\"400\" version=\"1.1\" width=\"400\" xmlns=\"http://www.w3.org/2000/svg\" xmlns:ev=\"http://www.w3.org/2001/xml-events\" xmlns:xlink=\"http://www.w3.org/1999/xlink\"><defs /><rect fill=\"#eef3dd\" height=\"400.0\" stroke=\"#d3d3d3\" stroke-width=\"1\" width=\"400.0\" x=\"0.0\" y=\"0.0\" /><rect fill=\"#a020f0\" height=\"80.0\" stroke=\"#a020f0\" stroke-width=\"1\" width=\"80.0\" x=\"80.0\" y=\"240.0\" /><rect fill=\"#ff0000\" height=\"7.999999999999972\" stroke=\"#ff0000\" stroke-width=\"1\" width=\"8.0\" x=\"80.0\" y=\"72.00000000000003\" /><circle cx=\"320.0\" cy=\"80.0\" fill=\"rgba(255,255,0,0.25098039215686274)\" r=\"20.0\" stroke=\"rgba(255,255,0,0.25098039215686274)\" stroke-width=\"1\" /><line fill=\"#800080\" stroke=\"#a020f0\" stroke-width=\"1\" x1=\"200.0\" x2=\"0.0\" y1=\"200.0\" y2=\"84.52994400000001\" /><line fill=\"#800080\" stroke=\"#a020f0\" stroke-width=\"1\" x1=\"200.0\" x2=\"400.0\" y1=\"200.0\" y2=\"84.52993599999999\" /><line fill=\"#800080\" stroke=\"#d3d3d3\" stroke-width=\"1\" x1=\"186.0\" x2=\"26.000000000000014\" y1=\"192.0\" y2=\"192.0\" /><line fill=\"#800080\" stroke=\"#d3d3d3\" stroke-width=\"1\" x1=\"188.0\" x2=\"42.99075407413602\" y1=\"186.4\" y2=\"118.7810781214881\" /><line fill=\"#800080\" stroke=\"#d3d3d3\" stroke-width=\"1\" x1=\"191.20000000000002\" x2=\"88.35398245015372\" y1=\"184.0\" y2=\"61.43288910096352\" /><line fill=\"#800080\" stroke=\"#d3d3d3\" stroke-width=\"1\" x1=\"196.0\" x2=\"154.5889527835967\" y1=\"182.0\" y2=\"27.451867793749045\" /><line fill=\"#800080\" stroke=\"#d3d3d3\" stroke-width=\"1\" x1=\"204.0\" x2=\"245.4110472164033\" y1=\"182.0\" y2=\"27.451867793749045\" /><line fill=\"#800080\" stroke=\"#d3d3d3\" stroke-width=\"1\" x1=\"208.79999999999998\" x2=\"311.64601754984625\" y1=\"184.0\" y2=\"61.43288910096352\" /><line fill=\"#800080\" stroke=\"#d3d3d3\" stroke-width=\"1\" x1=\"212.0\" x2=\"357.009245925864\" y1=\"186.4\" y2=\"118.7810781214881\" /><line fill=\"#800080\" stroke=\"#d3d3d3\" stroke-width=\"1\" x1=\"214.0\" x2=\"374.0\" y1=\"192.0\" y2=\"192.0\" /><line fill=\"#800080\" stroke=\"#d3d3d3\" stroke-width=\"1\" x1=\"214.0\" x2=\"374.0\" y1=\"208.0\" y2=\"208.0\" /><line fill=\"#800080\" stroke=\"#d3d3d3\" stroke-width=\"1\" x1=\"212.0\" x2=\"357.00924592586404\" y1=\"213.6\" y2=\"281.2189218785119\" /><line fill=\"#800080\" stroke=\"#d3d3d3\" stroke-width=\"1\" x1=\"208.79999999999998\" x2=\"311.64601754984625\" y1=\"216.0\" y2=\"338.5671108990365\" /><line fill=\"#800080\" stroke=\"#d3d3d3\" stroke-width=\"1\" x1=\"204.0\" x2=\"245.4110472164033\" y1=\"218.0\" y2=\"372.54813220625095\" /><line fill=\"#800080\" stroke=\"#d3d3d3\" stroke-width=\"1\" x1=\"196.0\" x2=\"154.58895278359665\" y1=\"218.0\" y2=\"372.54813220625095\" /><line fill=\"#800080\" stroke=\"#add8e6\" stroke-width=\"1\" x1=\"191.20000000000002\" x2=\"160.0\" y1=\"216.0\" y2=\"253.182712\" /><line fill=\"#800080\" stroke=\"#add8e6\" stroke-width=\"1\" x1=\"188.0\" x2=\"131.38501710030033\" y1=\"213.6\" y2=\"240.0\" /><line fill=\"#800080\" stroke=\"#d3d3d3\" stroke-width=\"1\" x1=\"186.0\" x2=\"26.000000000000014\" y1=\"208.0\" y2=\"208.0\" /><line fill=\"#800080\" stroke=\"#ffa500\" stroke-width=\"1\" x1=\"320.0\" x2=\"186.0\" y1=\"80.0\" y2=\"182.0\" /><line fill=\"#800080\" stroke=\"#ffa500\" stroke-width=\"1\" x1=\"320.0\" x2=\"214.0\" y1=\"80.0\" y2=\"182.0\" /><line fill=\"#800080\" stroke=\"#a020f0\" stroke-width=\"1\" x1=\"200.0\" x2=\"0.0\" y1=\"200.0\" y2=\"84.52994400000001\" /><line fill=\"#800080\" stroke=\"#a020f0\" stroke-width=\"1\" x1=\"200.0\" x2=\"400.0\" y1=\"200.0\" y2=\"84.52993599999999\" /><polygon fill=\"red\" points=\"195.42897484186355,173.45099115845585 187.26794268586957,178.66228218360806 184.87194068634574,202.5423821502807 191.83497184257774,209.27114110846475 204.57102515813645,210.54900884154415 212.73205731413043,205.33771781639192 215.12805931365426,181.45761784971927 208.16502815742226,174.72885889153525\" stroke=\"red\" stroke-width=\"1\" /><polygon points=\"-4.0,-4.0 0,0 4.0,-4.0 0,4.0\" stroke=\"black\" stroke-width=\"1\" transform=\"translate(200.0,192.0) rotate(-174.27042204869178)\" /><polygon fill=\"black\" points=\"205.894154259779,181.33515374879084 205.25522039323928,187.70318040657025 195.70318040657025,186.74477960676072 196.34211427310993,180.37675294898133\" stroke=\"black\" stroke-width=\"1\" /><line fill=\"#800080\" stroke=\"black\" stroke-width=\"1\" x1=\"192.24496151297387\" x2=\"211.34904148631193\" y1=\"173.13152422518598\" y2=\"175.0483258248051\" /><polygon fill=\"black\" points=\"192.24496151297387,173.13152422518598 193.8422961793231,157.21145758073757 195.43430284376797,157.3711910473725 193.83696817741873,173.29125769182093\" stroke=\"black\" stroke-width=\"1\" /><polygon fill=\"black\" points=\"209.75703482186708,174.88859235817017 211.35436948821635,158.96852571372176 212.94637615266117,159.12825918035668 211.34904148631193,175.0483258248051\" stroke=\"black\" stroke-width=\"1\" /><circle cx=\"187.86694318575056\" cy=\"172.69225719193994\" fill=\"yellow\" r=\"2.0\" stroke=\"orange\" stroke-width=\"1\" /><circle cx=\"215.72705981353525\" cy=\"175.48759285805116\" fill=\"yellow\" r=\"2.0\" stroke=\"orange\" stroke-width=\"1\" /><polygon fill=\"black\" points=\"205.894154259779,181.33515374879084 205.25522039323928,187.70318040657025 195.70318040657025,186.74477960676072 196.34211427310993,180.37675294898133\" stroke=\"black\" stroke-width=\"1\" /></svg>"
      ],
      "text/plain": [
       "<jyro.simulator.canvas.Canvas at 0x7fb159ea4250>"
      ]
     },
     "execution_count": 18,
     "metadata": {},
     "output_type": "execute_result"
    }
   ],
   "source": [
    "# move the robot\n",
    "robot.move(1,-1)\n",
    "robot.step()\n",
    "vsim.update()\n",
    "vsim.canvas"
   ]
  },
  {
   "cell_type": "markdown",
   "metadata": {},
   "source": [
    "8. Now that the environment and the robot have been built and analyzed, let build a build a cognitive function for performing a task and load the function into the robot brain."
   ]
  },
  {
   "cell_type": "code",
   "execution_count": 19,
   "metadata": {},
   "outputs": [],
   "source": [
    "# you can customize this function to accomplish your desired task\n",
    "robot.brain = lambda self: self.move(1,-1)"
   ]
  },
  {
   "cell_type": "markdown",
   "metadata": {},
   "source": [
    "# Exercise 2: Characteristics of Sensors\n",
    "\n",
    "Now that we know which sensors are on board and why they are used for, let investigate how good they are in executing their respective functions. This leads us to sensor characteristics. We will focus on the following core characteristics:  \"Range\", \"Resolution\", \"Accuracy\", \"Precision\".\n",
    "\n",
    "![Sensor Characteristics](imgs/characteristics.png \"Characteristics of sensors\" )"
   ]
  },
  {
   "cell_type": "markdown",
   "metadata": {},
   "source": [
    "1. Range (What is it?)"
   ]
  },
  {
   "cell_type": "code",
   "execution_count": 20,
   "metadata": {
    "jupyter": {
     "source_hidden": true
    }
   },
   "outputs": [
    {
     "name": "stdout",
     "output_type": "stream",
     "text": [
      "Max Light:  3\n",
      "Max Sonar:  2\n",
      "Max Depth:  2.0\n"
     ]
    }
   ],
   "source": [
    "# reading sensor range\n",
    "print(\"Max Light: \", robot.device[\"light\"].maxRange)\n",
    "print(\"Max Sonar: \", robot.device[\"sonar\"].maxRange)\n",
    "print(\"Max Depth: \", robot.device[\"depth_camera\"].maxDist)"
   ]
  },
  {
   "cell_type": "code",
   "execution_count": 21,
   "metadata": {},
   "outputs": [
    {
     "data": {
      "image/svg+xml": [
       "<svg baseProfile=\"full\" height=\"400\" version=\"1.1\" width=\"400\" xmlns=\"http://www.w3.org/2000/svg\" xmlns:ev=\"http://www.w3.org/2001/xml-events\" xmlns:xlink=\"http://www.w3.org/1999/xlink\"><defs /><rect fill=\"#eef3dd\" height=\"400.0\" stroke=\"#d3d3d3\" stroke-width=\"1\" width=\"400.0\" x=\"0.0\" y=\"0.0\" /><rect fill=\"#a020f0\" height=\"80.0\" stroke=\"#a020f0\" stroke-width=\"1\" width=\"80.0\" x=\"80.0\" y=\"240.0\" /><rect fill=\"#ff0000\" height=\"7.999999999999972\" stroke=\"#ff0000\" stroke-width=\"1\" width=\"8.0\" x=\"80.0\" y=\"72.00000000000003\" /><circle cx=\"320.0\" cy=\"80.0\" fill=\"rgba(255,255,0,0.25098039215686274)\" r=\"20.0\" stroke=\"rgba(255,255,0,0.25098039215686274)\" stroke-width=\"1\" /><line fill=\"#800080\" stroke=\"#a020f0\" stroke-width=\"1\" x1=\"240.0\" x2=\"0.0\" y1=\"280.0\" y2=\"141.435928\" /><line fill=\"#800080\" stroke=\"#a020f0\" stroke-width=\"1\" x1=\"240.0\" x2=\"400.0\" y1=\"280.0\" y2=\"187.623952\" /><line fill=\"#800080\" stroke=\"#add8e6\" stroke-width=\"1\" x1=\"226.0\" x2=\"160.0\" y1=\"272.0\" y2=\"272.0\" /><line fill=\"#800080\" stroke=\"#d3d3d3\" stroke-width=\"1\" x1=\"228.0\" x2=\"82.99075407413602\" y1=\"266.4\" y2=\"198.7810781214881\" /><line fill=\"#800080\" stroke=\"#d3d3d3\" stroke-width=\"1\" x1=\"231.20000000000002\" x2=\"128.35398245015372\" y1=\"264.0\" y2=\"141.4328891009635\" /><line fill=\"#800080\" stroke=\"#d3d3d3\" stroke-width=\"1\" x1=\"236.0\" x2=\"194.5889527835967\" y1=\"262.0\" y2=\"107.45186779374905\" /><line fill=\"#800080\" stroke=\"#d3d3d3\" stroke-width=\"1\" x1=\"244.0\" x2=\"285.4110472164033\" y1=\"262.0\" y2=\"107.45186779374905\" /><line fill=\"#800080\" stroke=\"#d3d3d3\" stroke-width=\"1\" x1=\"248.79999999999998\" x2=\"351.6460175498463\" y1=\"264.0\" y2=\"141.4328891009635\" /><line fill=\"#800080\" stroke=\"#d3d3d3\" stroke-width=\"1\" x1=\"252.0\" x2=\"397.009245925864\" y1=\"266.4\" y2=\"198.7810781214881\" /><line fill=\"#800080\" stroke=\"#add8e6\" stroke-width=\"1\" x1=\"254.0\" x2=\"400.0\" y1=\"272.0\" y2=\"272.0\" /><line fill=\"#800080\" stroke=\"#add8e6\" stroke-width=\"1\" x1=\"254.0\" x2=\"400.0\" y1=\"288.0\" y2=\"288.0\" /><line fill=\"#800080\" stroke=\"#d3d3d3\" stroke-width=\"1\" x1=\"252.0\" x2=\"397.00924592586404\" y1=\"293.6\" y2=\"361.2189218785119\" /><line fill=\"#800080\" stroke=\"#add8e6\" stroke-width=\"1\" x1=\"248.79999999999998\" x2=\"336.0663613686587\" y1=\"296.0\" y2=\"400.0\" /><line fill=\"#800080\" stroke=\"#add8e6\" stroke-width=\"1\" x1=\"244.0\" x2=\"271.33081682596605\" y1=\"298.0\" y2=\"400.0\" /><line fill=\"#800080\" stroke=\"#add8e6\" stroke-width=\"1\" x1=\"236.0\" x2=\"208.66918317403395\" y1=\"298.0\" y2=\"400.0\" /><line fill=\"#800080\" stroke=\"#add8e6\" stroke-width=\"1\" x1=\"231.20000000000002\" x2=\"143.93363863134124\" y1=\"296.0\" y2=\"400.0\" /><line fill=\"#800080\" stroke=\"#d3d3d3\" stroke-width=\"1\" x1=\"228.0\" x2=\"82.99075407413599\" y1=\"293.6\" y2=\"361.2189218785119\" /><line fill=\"#800080\" stroke=\"#add8e6\" stroke-width=\"1\" x1=\"226.0\" x2=\"160.0\" y1=\"288.0\" y2=\"288.0\" /><line fill=\"#800080\" stroke=\"#ffa500\" stroke-width=\"1\" x1=\"320.0\" x2=\"226.0\" y1=\"80.0\" y2=\"262.0\" /><line fill=\"#800080\" stroke=\"#ffa500\" stroke-width=\"1\" x1=\"320.0\" x2=\"254.0\" y1=\"80.0\" y2=\"262.0\" /><line fill=\"#800080\" stroke=\"#a020f0\" stroke-width=\"1\" x1=\"240.0\" x2=\"0.0\" y1=\"280.0\" y2=\"141.435928\" /><line fill=\"#800080\" stroke=\"#a020f0\" stroke-width=\"1\" x1=\"240.0\" x2=\"400.0\" y1=\"280.0\" y2=\"187.623952\" /><polygon fill=\"red\" points=\"233.6,262.0 226.0,268.0 226.0,292.0 233.6,298.0 246.4,298.0 254.0,292.0 254.0,268.0 246.4,262.0\" stroke=\"red\" stroke-width=\"1\" /><polygon points=\"-4.0,-4.0 0,0 4.0,-4.0 0,4.0\" stroke=\"black\" stroke-width=\"1\" transform=\"translate(240.0,280.0) rotate(180.0)\" /><polygon fill=\"black\" points=\"244.8,268.8 244.8,275.2 235.2,275.2 235.2,268.8\" stroke=\"black\" stroke-width=\"1\" /><line fill=\"#800080\" stroke=\"black\" stroke-width=\"1\" x1=\"230.39999999999998\" x2=\"249.60000000000002\" y1=\"262.0\" y2=\"262.0\" /><polygon fill=\"black\" points=\"230.39999999999998,262.0 230.39999999999998,246.0 232.0,246.0 232.0,262.0\" stroke=\"black\" stroke-width=\"1\" /><polygon fill=\"black\" points=\"248.0,262.0 248.0,246.0 249.60000000000002,246.0 249.60000000000002,262.0\" stroke=\"black\" stroke-width=\"1\" /><circle cx=\"226.0\" cy=\"262.0\" fill=\"yellow\" r=\"2.0\" stroke=\"orange\" stroke-width=\"1\" /><circle cx=\"254.0\" cy=\"262.0\" fill=\"yellow\" r=\"2.0\" stroke=\"orange\" stroke-width=\"1\" /><polygon fill=\"black\" points=\"244.8,268.8 244.8,275.2 235.2,275.2 235.2,268.8\" stroke=\"black\" stroke-width=\"1\" /></svg>"
      ],
      "text/plain": [
       "<jyro.simulator.canvas.Canvas at 0x7fb159ea4250>"
      ]
     },
     "execution_count": 21,
     "metadata": {},
     "output_type": "execute_result"
    }
   ],
   "source": [
    "# testing these characteristics\n",
    "robot.setPose(3, 1.5, a = 0)\n",
    "vsim.update()\n",
    "vsim.canvas"
   ]
  },
  {
   "cell_type": "code",
   "execution_count": 22,
   "metadata": {},
   "outputs": [
    {
     "data": {
      "image/jpeg": "[encoded data removed]",
      "image/png": "[encoded data removed]",
      "text/plain": [
       "<PIL.Image.Image image mode=RGB size=60x40>"
      ]
     },
     "execution_count": 22,
     "metadata": {},
     "output_type": "execute_result"
    }
   ],
   "source": [
    "robot.device['depth_camera'].getImage()"
   ]
  },
  {
   "cell_type": "code",
   "execution_count": 23,
   "metadata": {},
   "outputs": [
    {
     "name": "stdout",
     "output_type": "stream",
     "text": [
      "Light:  [0.32961185563959505, 0.43502324395049063]\n",
      "Sonar:  [2, 2, 2, 2]\n",
      "Depth:  2.0\n"
     ]
    }
   ],
   "source": [
    "print(\"Light: \", robot.device['light'].getData())\n",
    "print(\"Sonar: \", robot.device['sonar'].getData()[2:6])\n",
    "print(\"Depth: \", (1-np.min(robot.device['depth_camera'].getData()[18:22, 28:32,:]))*robot.device['depth_camera'].maxDist)"
   ]
  },
  {
   "cell_type": "markdown",
   "metadata": {},
   "source": [
    "2. Resolution (What is it?)"
   ]
  },
  {
   "cell_type": "code",
   "execution_count": 24,
   "metadata": {},
   "outputs": [
    {
     "name": "stdout",
     "output_type": "stream",
     "text": [
      "nber of pixels:  (40, 60, 3)\n",
      "nber of bits / pixel:  10.0\n"
     ]
    },
    {
     "data": {
      "image/jpeg": "[encoded data removed]",
      "image/png": "[encoded data removed]",
      "text/plain": [
       "<PIL.Image.Image image mode=RGB size=60x40>"
      ]
     },
     "execution_count": 24,
     "metadata": {},
     "output_type": "execute_result"
    }
   ],
   "source": [
    "# Camera resolution\n",
    "\n",
    "# nber of pixels / unit of area = pixel size\n",
    "print(\"nber of pixels: \", robot.device['depth_camera'].getData().shape)\n",
    "\n",
    "# nber of bits for pixel encoding?\n",
    "print(\"nber of bits / pixel: \",np.ceil(np.log(len(color.colorMap))/np.log(2)))\n",
    "\n",
    "# examine color image\n",
    "robot.device['camera'].getImage().save(\"test.png\")\n",
    "robot.device['camera'].getImage()\n"
   ]
  },
  {
   "cell_type": "markdown",
   "metadata": {},
   "source": [
    "3. Accuracy (What is it?)"
   ]
  },
  {
   "cell_type": "code",
   "execution_count": 25,
   "metadata": {},
   "outputs": [
    {
     "name": "stdout",
     "output_type": "stream",
     "text": [
      "exact distance:  1.0\n",
      "expected distance:  0.8248974225371407\n",
      "accuracy:  82.48974225371407 %\n"
     ]
    }
   ],
   "source": [
    "# compute the average\n",
    "\n",
    "exact_distance=1.0\n",
    "measurements=[]\n",
    "for i in range(10000):\n",
    "    measurements.append(robot.device['sonar'].getData()[0])\n",
    "expected_distance=np.average(np.array(measurements))\n",
    "accuracy=100*(1-np.abs(expected_distance-exact_distance)/exact_distance)\n",
    "print(\"exact distance: \", exact_distance)\n",
    "print(\"expected distance: \", expected_distance)\n",
    "print(\"accuracy: \", accuracy,\"%\")"
   ]
  },
  {
   "cell_type": "markdown",
   "metadata": {},
   "source": [
    "Where does this systematic error originate from?"
   ]
  },
  {
   "cell_type": "markdown",
   "metadata": {},
   "source": [
    "4. Precision (What is it?)"
   ]
  },
  {
   "cell_type": "code",
   "execution_count": 26,
   "metadata": {},
   "outputs": [
    {
     "name": "stdout",
     "output_type": "stream",
     "text": [
      "standard deviation:  0.005447078191124635\n",
      "precision:  99.3396659945462 %\n"
     ]
    }
   ],
   "source": [
    "# compute the standard deviation\n",
    "print(\"standard deviation: \", np.std(np.array(measurements)))\n",
    "print(\"precision: \", 100*(1-np.std(np.array(measurements))/expected_distance), \"%\")\n"
   ]
  },
  {
   "cell_type": "markdown",
   "metadata": {},
   "source": [
    "Where does this random error originate from?"
   ]
  },
  {
   "cell_type": "markdown",
   "metadata": {},
   "source": [
    "# Exercise 3: Sensor Model and Fusion\n",
    "\n",
    "Sensor model is the mathematical description of the relation between the target physical phenomenon/quantity and the sensor output. Sensor fusion is the process of combining multiple sensors/estimators to achieve a better estimator with the respect to the sensor characteristics discussed above. We will discuss three major fusion techniques namely the specifc technique of stereo-vision, and the less specific BLUE technique and the generic bayesian technique."
   ]
  },
  {
   "cell_type": "markdown",
   "metadata": {},
   "source": [
    "1. Stereo-vision (What is it?)\n",
    "\n",
    "![Stereo-Vision](imgs/stereo-vision.png \"Stereo Vision\" )\n",
    "   "
   ]
  },
  {
   "cell_type": "code",
   "execution_count": 27,
   "metadata": {},
   "outputs": [
    {
     "data": {
      "image/svg+xml": [
       "<svg baseProfile=\"full\" height=\"400\" version=\"1.1\" width=\"400\" xmlns=\"http://www.w3.org/2000/svg\" xmlns:ev=\"http://www.w3.org/2001/xml-events\" xmlns:xlink=\"http://www.w3.org/1999/xlink\"><defs /><rect fill=\"#eef3dd\" height=\"400.0\" stroke=\"#d3d3d3\" stroke-width=\"1\" width=\"400.0\" x=\"0.0\" y=\"0.0\" /><rect fill=\"#a020f0\" height=\"80.0\" stroke=\"#a020f0\" stroke-width=\"1\" width=\"80.0\" x=\"80.0\" y=\"240.0\" /><rect fill=\"#ff0000\" height=\"7.999999999999972\" stroke=\"#ff0000\" stroke-width=\"1\" width=\"8.0\" x=\"80.0\" y=\"72.00000000000003\" /><circle cx=\"320.0\" cy=\"80.0\" fill=\"rgba(255,255,0,0.25098039215686274)\" r=\"20.0\" stroke=\"rgba(255,255,0,0.25098039215686274)\" stroke-width=\"1\" /><line fill=\"#800080\" stroke=\"#a020f0\" stroke-width=\"1\" x1=\"100.0\" x2=\"0.0\" y1=\"160.0\" y2=\"102.264968\" /><line fill=\"#800080\" stroke=\"#a020f0\" stroke-width=\"1\" x1=\"100.0\" x2=\"377.12811788614295\" y1=\"160.0\" y2=\"0.0\" /><line fill=\"#800080\" stroke=\"#add8e6\" stroke-width=\"1\" x1=\"86.0\" x2=\"0.0\" y1=\"152.0\" y2=\"152.0\" /><line fill=\"#800080\" stroke=\"#add8e6\" stroke-width=\"1\" x1=\"88.0\" x2=\"0.0\" y1=\"146.4\" y2=\"105.36492800000002\" /><line fill=\"#800080\" stroke=\"#add8e6\" stroke-width=\"1\" x1=\"91.20000000000002\" x2=\"0.0\" y1=\"144.0\" y2=\"35.31207199999997\" /><line fill=\"#800080\" stroke=\"#add8e6\" stroke-width=\"1\" x1=\"96.0\" x2=\"57.951215455052214\" y1=\"142.0\" y2=\"0.0\" /><line fill=\"#800080\" stroke=\"#add8e6\" stroke-width=\"1\" x1=\"104.0\" x2=\"142.04878454494778\" y1=\"142.0\" y2=\"0.0\" /><line fill=\"#800080\" stroke=\"#d3d3d3\" stroke-width=\"1\" x1=\"108.80000000000001\" x2=\"211.6460175498463\" y1=\"144.0\" y2=\"21.43288910096352\" /><line fill=\"#800080\" stroke=\"#d3d3d3\" stroke-width=\"1\" x1=\"112.0\" x2=\"257.009245925864\" y1=\"146.4\" y2=\"78.78107812148812\" /><line fill=\"#800080\" stroke=\"#d3d3d3\" stroke-width=\"1\" x1=\"114.0\" x2=\"274.0\" y1=\"152.0\" y2=\"152.0\" /><line fill=\"#800080\" stroke=\"#d3d3d3\" stroke-width=\"1\" x1=\"114.0\" x2=\"274.0\" y1=\"168.0\" y2=\"168.0\" /><line fill=\"#800080\" stroke=\"#d3d3d3\" stroke-width=\"1\" x1=\"112.0\" x2=\"257.009245925864\" y1=\"173.6\" y2=\"241.21892187851188\" /><line fill=\"#800080\" stroke=\"#d3d3d3\" stroke-width=\"1\" x1=\"108.79999999999998\" x2=\"211.64601754984628\" y1=\"176.0\" y2=\"298.5671108990365\" /><line fill=\"#800080\" stroke=\"#add8e6\" stroke-width=\"1\" x1=\"104.0\" x2=\"120.6128491069843\" y1=\"178.0\" y2=\"240.0\" /><line fill=\"#800080\" stroke=\"#d3d3d3\" stroke-width=\"1\" x1=\"96.0\" x2=\"54.58895278359663\" y1=\"178.0\" y2=\"332.54813220625095\" /><line fill=\"#800080\" stroke=\"#add8e6\" stroke-width=\"1\" x1=\"91.19999999999999\" x2=\"0.0\" y1=\"176.0\" y2=\"284.687928\" /><line fill=\"#800080\" stroke=\"#add8e6\" stroke-width=\"1\" x1=\"88.0\" x2=\"0.0\" y1=\"173.6\" y2=\"214.63507199999998\" /><line fill=\"#800080\" stroke=\"#add8e6\" stroke-width=\"1\" x1=\"86.0\" x2=\"0.0\" y1=\"168.0\" y2=\"168.0\" /><line fill=\"#800080\" stroke=\"#ffa500\" stroke-width=\"1\" x1=\"320.0\" x2=\"86.0\" y1=\"80.0\" y2=\"142.0\" /><line fill=\"#800080\" stroke=\"#ffa500\" stroke-width=\"1\" x1=\"320.0\" x2=\"114.0\" y1=\"80.0\" y2=\"142.0\" /><line fill=\"#800080\" stroke=\"#a020f0\" stroke-width=\"1\" x1=\"100.0\" x2=\"0.0\" y1=\"160.0\" y2=\"102.264968\" /><line fill=\"#800080\" stroke=\"#a020f0\" stroke-width=\"1\" x1=\"100.0\" x2=\"377.12811788614295\" y1=\"160.0\" y2=\"0.0\" /><polygon fill=\"red\" points=\"93.6,142.0 86.0,148.0 86.0,172.0 93.6,178.0 106.4,178.0 114.0,172.0 114.0,148.0 106.4,142.0\" stroke=\"red\" stroke-width=\"1\" /><polygon points=\"-4.0,-4.0 0,0 4.0,-4.0 0,4.0\" stroke=\"black\" stroke-width=\"1\" transform=\"translate(100.0,160.0) rotate(180.0)\" /><polygon fill=\"black\" points=\"104.80000000000001,148.79999999999998 104.80000000000001,155.2 95.19999999999999,155.2 95.19999999999999,148.79999999999998\" stroke=\"black\" stroke-width=\"1\" /><line fill=\"#800080\" stroke=\"black\" stroke-width=\"1\" x1=\"90.39999999999999\" x2=\"109.60000000000001\" y1=\"142.0\" y2=\"142.0\" /><polygon fill=\"black\" points=\"90.39999999999999,142.0 90.39999999999999,126.00000000000001 92.0,126.00000000000001 92.0,142.0\" stroke=\"black\" stroke-width=\"1\" /><polygon fill=\"black\" points=\"108.0,142.0 108.0,126.00000000000001 109.60000000000001,126.00000000000001 109.60000000000001,142.0\" stroke=\"black\" stroke-width=\"1\" /><circle cx=\"86.0\" cy=\"142.0\" fill=\"yellow\" r=\"2.0\" stroke=\"orange\" stroke-width=\"1\" /><circle cx=\"114.0\" cy=\"142.0\" fill=\"yellow\" r=\"2.0\" stroke=\"orange\" stroke-width=\"1\" /><polygon fill=\"black\" points=\"104.80000000000001,148.79999999999998 104.80000000000001,155.2 95.19999999999999,155.2 95.19999999999999,148.79999999999998\" stroke=\"black\" stroke-width=\"1\" /></svg>"
      ],
      "text/plain": [
       "<jyro.simulator.canvas.Canvas at 0x7fb159ea4250>"
      ]
     },
     "execution_count": 27,
     "metadata": {},
     "output_type": "execute_result"
    }
   ],
   "source": [
    "# let take the robot close to the red block of the environment\n",
    "robot.setPose(1.25, 3., a=0.)\n",
    "cam1_pose=robot.getPose()\n",
    "vsim.update()\n",
    "vsim.canvas"
   ]
  },
  {
   "cell_type": "code",
   "execution_count": 28,
   "metadata": {},
   "outputs": [
    {
     "data": {
      "image/jpeg": "[encoded data removed]",
      "image/png": "[encoded data removed]",
      "text/plain": [
       "<PIL.Image.Image image mode=RGB size=60x40>"
      ]
     },
     "execution_count": 28,
     "metadata": {},
     "output_type": "execute_result"
    }
   ],
   "source": [
    "# let see what the robot see through the first camera\n",
    "cam1_image=robot.device['camera'].getImage()\n",
    "cam1_image.save('setero1.png')\n",
    "cam1_image"
   ]
  },
  {
   "cell_type": "code",
   "execution_count": 29,
   "metadata": {},
   "outputs": [
    {
     "data": {
      "image/svg+xml": [
       "<svg baseProfile=\"full\" height=\"400\" version=\"1.1\" width=\"400\" xmlns=\"http://www.w3.org/2000/svg\" xmlns:ev=\"http://www.w3.org/2001/xml-events\" xmlns:xlink=\"http://www.w3.org/1999/xlink\"><defs /><rect fill=\"#eef3dd\" height=\"400.0\" stroke=\"#d3d3d3\" stroke-width=\"1\" width=\"400.0\" x=\"0.0\" y=\"0.0\" /><rect fill=\"#a020f0\" height=\"80.0\" stroke=\"#a020f0\" stroke-width=\"1\" width=\"80.0\" x=\"80.0\" y=\"240.0\" /><rect fill=\"#ff0000\" height=\"7.999999999999972\" stroke=\"#ff0000\" stroke-width=\"1\" width=\"8.0\" x=\"80.0\" y=\"72.00000000000003\" /><circle cx=\"320.0\" cy=\"80.0\" fill=\"rgba(255,255,0,0.25098039215686274)\" r=\"20.0\" stroke=\"rgba(255,255,0,0.25098039215686274)\" stroke-width=\"1\" /><line fill=\"#800080\" stroke=\"#a020f0\" stroke-width=\"1\" x1=\"60.0\" x2=\"0.0\" y1=\"160.0\" y2=\"125.358984\" /><line fill=\"#800080\" stroke=\"#a020f0\" stroke-width=\"1\" x1=\"60.0\" x2=\"337.12811095794007\" y1=\"160.0\" y2=\"0.0\" /><line fill=\"#800080\" stroke=\"#add8e6\" stroke-width=\"1\" x1=\"46.0\" x2=\"0.0\" y1=\"152.0\" y2=\"152.0\" /><line fill=\"#800080\" stroke=\"#add8e6\" stroke-width=\"1\" x1=\"48.0\" x2=\"0.0\" y1=\"146.4\" y2=\"124.01723199999999\" /><line fill=\"#800080\" stroke=\"#add8e6\" stroke-width=\"1\" x1=\"51.2\" x2=\"0.0\" y1=\"144.0\" y2=\"82.98221600000002\" /><line fill=\"#800080\" stroke=\"#add8e6\" stroke-width=\"1\" x1=\"56.0\" x2=\"17.95121545505222\" y1=\"142.0\" y2=\"0.0\" /><line fill=\"#800080\" stroke=\"#add8e6\" stroke-width=\"1\" x1=\"64.0\" x2=\"80.6128491069843\" y1=\"142.0\" y2=\"80.0\" /><line fill=\"#800080\" stroke=\"#d3d3d3\" stroke-width=\"1\" x1=\"68.8\" x2=\"171.64601754984628\" y1=\"144.0\" y2=\"21.43288910096352\" /><line fill=\"#800080\" stroke=\"#d3d3d3\" stroke-width=\"1\" x1=\"72.0\" x2=\"217.009245925864\" y1=\"146.4\" y2=\"78.78107812148812\" /><line fill=\"#800080\" stroke=\"#d3d3d3\" stroke-width=\"1\" x1=\"74.0\" x2=\"234.0\" y1=\"152.0\" y2=\"152.0\" /><line fill=\"#800080\" stroke=\"#d3d3d3\" stroke-width=\"1\" x1=\"74.0\" x2=\"234.0\" y1=\"168.0\" y2=\"168.0\" /><line fill=\"#800080\" stroke=\"#d3d3d3\" stroke-width=\"1\" x1=\"72.0\" x2=\"217.009245925864\" y1=\"173.6\" y2=\"241.21892187851188\" /><line fill=\"#800080\" stroke=\"#add8e6\" stroke-width=\"1\" x1=\"68.8\" x2=\"122.50237633014073\" y1=\"176.0\" y2=\"240.0\" /><line fill=\"#800080\" stroke=\"#add8e6\" stroke-width=\"1\" x1=\"64.0\" x2=\"80.6128491069843\" y1=\"178.0\" y2=\"240.0\" /><line fill=\"#800080\" stroke=\"#d3d3d3\" stroke-width=\"1\" x1=\"56.0\" x2=\"14.588952783596634\" y1=\"178.0\" y2=\"332.54813220625095\" /><line fill=\"#800080\" stroke=\"#add8e6\" stroke-width=\"1\" x1=\"51.2\" x2=\"0.0\" y1=\"176.0\" y2=\"237.01778399999998\" /><line fill=\"#800080\" stroke=\"#add8e6\" stroke-width=\"1\" x1=\"48.0\" x2=\"0.0\" y1=\"173.6\" y2=\"195.98276800000002\" /><line fill=\"#800080\" stroke=\"#add8e6\" stroke-width=\"1\" x1=\"46.0\" x2=\"0.0\" y1=\"168.0\" y2=\"168.0\" /><line fill=\"#800080\" stroke=\"#ffa500\" stroke-width=\"1\" x1=\"320.0\" x2=\"46.0\" y1=\"80.0\" y2=\"142.0\" /><line fill=\"#800080\" stroke=\"#ffa500\" stroke-width=\"1\" x1=\"320.0\" x2=\"74.0\" y1=\"80.0\" y2=\"142.0\" /><line fill=\"#800080\" stroke=\"#a020f0\" stroke-width=\"1\" x1=\"60.0\" x2=\"0.0\" y1=\"160.0\" y2=\"125.358984\" /><line fill=\"#800080\" stroke=\"#a020f0\" stroke-width=\"1\" x1=\"60.0\" x2=\"337.12811095794007\" y1=\"160.0\" y2=\"0.0\" /><polygon fill=\"red\" points=\"53.6,142.0 46.0,148.0 46.0,172.0 53.6,178.0 66.39999999999999,178.0 74.0,172.0 74.0,148.0 66.39999999999999,142.0\" stroke=\"red\" stroke-width=\"1\" /><polygon points=\"-4.0,-4.0 0,0 4.0,-4.0 0,4.0\" stroke=\"black\" stroke-width=\"1\" transform=\"translate(60.0,160.0) rotate(180.0)\" /><polygon fill=\"black\" points=\"64.80000000000001,148.79999999999998 64.80000000000001,155.2 55.199999999999996,155.2 55.199999999999996,148.79999999999998\" stroke=\"black\" stroke-width=\"1\" /><line fill=\"#800080\" stroke=\"black\" stroke-width=\"1\" x1=\"50.4\" x2=\"69.6\" y1=\"142.0\" y2=\"142.0\" /><polygon fill=\"black\" points=\"50.4,142.0 50.4,126.00000000000001 52.0,126.00000000000001 52.0,142.0\" stroke=\"black\" stroke-width=\"1\" /><polygon fill=\"black\" points=\"68.0,142.0 68.0,126.00000000000001 69.6,126.00000000000001 69.6,142.0\" stroke=\"black\" stroke-width=\"1\" /><circle cx=\"46.0\" cy=\"142.0\" fill=\"yellow\" r=\"2.0\" stroke=\"orange\" stroke-width=\"1\" /><circle cx=\"74.0\" cy=\"142.0\" fill=\"yellow\" r=\"2.0\" stroke=\"orange\" stroke-width=\"1\" /><polygon fill=\"black\" points=\"64.80000000000001,148.79999999999998 64.80000000000001,155.2 55.199999999999996,155.2 55.199999999999996,148.79999999999998\" stroke=\"black\" stroke-width=\"1\" /></svg>"
      ],
      "text/plain": [
       "<jyro.simulator.canvas.Canvas at 0x7fb159ea4250>"
      ]
     },
     "execution_count": 29,
     "metadata": {},
     "output_type": "execute_result"
    }
   ],
   "source": [
    "# let take the robot close to the red block of the environment\n",
    "robot.setPose(0.75, 3., a=0.)\n",
    "cam2_pose=robot.getPose()\n",
    "vsim.update()\n",
    "vsim.canvas"
   ]
  },
  {
   "cell_type": "code",
   "execution_count": 30,
   "metadata": {},
   "outputs": [
    {
     "data": {
      "image/jpeg": "[encoded data removed]",
      "image/png": "[encoded data removed]",
      "text/plain": [
       "<PIL.Image.Image image mode=RGB size=60x40>"
      ]
     },
     "execution_count": 30,
     "metadata": {},
     "output_type": "execute_result"
    }
   ],
   "source": [
    "# let see what the robot see through the camera\n",
    "cam2_image=robot.device['camera'].getImage()\n",
    "cam2_image.save('setero2.png')\n",
    "cam2_image"
   ]
  },
  {
   "cell_type": "code",
   "execution_count": 31,
   "metadata": {},
   "outputs": [
    {
     "name": "stdout",
     "output_type": "stream",
     "text": [
      "target in cam 1:  (20, 24)\n",
      "target in cam 2:  (19, 37)\n"
     ]
    }
   ],
   "source": [
    "# TODO - Calibration of the camera. Determine the camera intrinsic parameters\n",
    "img2=np.array(cam2_image)\n",
    "img1=np.array(cam1_image)\n",
    "target_color=[255,0,0]\n",
    "x1_list=[]\n",
    "y1_list=[]\n",
    "x2_list=[]\n",
    "y2_list=[]\n",
    "for i in range(img1.shape[0]):\n",
    "    for j in range (img1.shape[1]):\n",
    "        if img1[i][j][2]==0 and img1[i][j][1]==0 and img1[i][j][0]>target_color[0]/2:\n",
    "            x1_list.append(i)\n",
    "            y1_list.append(j)\n",
    "        if img2[i][j][2]==0 and img2[i][j][1]==0 and img2[i][j][0]>target_color[0]/2:\n",
    "            x2_list.append(i)\n",
    "            y2_list.append(j)\n",
    "target_in_cam1=(int(np.floor(np.average(np.array(x1_list)))),int(np.floor(np.average(np.array(y1_list)))))\n",
    "target_in_cam2=(int(np.floor(np.average(np.array(x2_list)))),int(np.floor(np.average(np.array(y2_list)))))\n",
    "print(\"target in cam 1: \",target_in_cam1)\n",
    "print(\"target in cam 2: \",target_in_cam2)"
   ]
  },
  {
   "cell_type": "code",
   "execution_count": 32,
   "metadata": {},
   "outputs": [],
   "source": [
    "# TODO - Apply the formulas above to estimate the distance between the robot and the red box"
   ]
  },
  {
   "cell_type": "code",
   "execution_count": 33,
   "metadata": {},
   "outputs": [],
   "source": [
    "# the color camera itself is a fusion of three monochromatic cameras (red, blue, green) Vs Light sensors (intensity)\n",
    "imr=np.zeros(img1.shape, dtype='uint8')\n",
    "img=np.zeros(img1.shape, dtype='uint8')\n",
    "imb=np.zeros(img1.shape, dtype='uint8')\n",
    "imr[:,:,0]=img1[:,:,0]\n",
    "img[:,:,1]=img1[:,:,1]\n",
    "imb[:,:,2]=img1[:,:,2]\n",
    "img_red=Image.fromarray(imr)\n",
    "img_green=Image.fromarray(img)\n",
    "img_blue=Image.fromarray(imb)"
   ]
  },
  {
   "cell_type": "code",
   "execution_count": 34,
   "metadata": {},
   "outputs": [
    {
     "data": {
      "image/jpeg": "[encoded data removed]",
      "image/png": "[encoded data removed]",
      "text/plain": [
       "<PIL.Image.Image image mode=RGB size=60x40>"
      ]
     },
     "execution_count": 34,
     "metadata": {},
     "output_type": "execute_result"
    }
   ],
   "source": [
    "img_red"
   ]
  },
  {
   "cell_type": "code",
   "execution_count": 35,
   "metadata": {},
   "outputs": [
    {
     "data": {
      "image/jpeg": "[encoded data removed]",
      "image/png": "[encoded data removed]",
      "text/plain": [
       "<PIL.Image.Image image mode=RGB size=60x40>"
      ]
     },
     "execution_count": 35,
     "metadata": {},
     "output_type": "execute_result"
    }
   ],
   "source": [
    "img_green"
   ]
  },
  {
   "cell_type": "code",
   "execution_count": 36,
   "metadata": {},
   "outputs": [
    {
     "data": {
      "image/jpeg": "[encoded data removed]",
      "image/png": "[encoded data removed]",
      "text/plain": [
       "<PIL.Image.Image image mode=RGB size=60x40>"
      ]
     },
     "execution_count": 36,
     "metadata": {},
     "output_type": "execute_result"
    }
   ],
   "source": [
    "img_blue"
   ]
  },
  {
   "cell_type": "markdown",
   "metadata": {},
   "source": [
    "2. BLUE - Best Linear Unbiased Estimator (What is it?)\n",
    "\n",
    "![Best Linear Unbiased Estimator](imgs/BLUE.png \"Best Linear Unbiased Estimator\" )"
   ]
  },
  {
   "cell_type": "code",
   "execution_count": 37,
   "metadata": {},
   "outputs": [
    {
     "data": {
      "image/svg+xml": [
       "<svg baseProfile=\"full\" height=\"400\" version=\"1.1\" width=\"400\" xmlns=\"http://www.w3.org/2000/svg\" xmlns:ev=\"http://www.w3.org/2001/xml-events\" xmlns:xlink=\"http://www.w3.org/1999/xlink\"><defs /><rect fill=\"#eef3dd\" height=\"400.0\" stroke=\"#d3d3d3\" stroke-width=\"1\" width=\"400.0\" x=\"0.0\" y=\"0.0\" /><rect fill=\"#a020f0\" height=\"80.0\" stroke=\"#a020f0\" stroke-width=\"1\" width=\"80.0\" x=\"80.0\" y=\"240.0\" /><rect fill=\"#ff0000\" height=\"7.999999999999972\" stroke=\"#ff0000\" stroke-width=\"1\" width=\"8.0\" x=\"80.0\" y=\"72.00000000000003\" /><circle cx=\"320.0\" cy=\"80.0\" fill=\"rgba(255,255,0,0.25098039215686274)\" r=\"20.0\" stroke=\"rgba(255,255,0,0.25098039215686274)\" stroke-width=\"1\" /><line fill=\"#800080\" stroke=\"#a020f0\" stroke-width=\"1\" x1=\"240.0\" x2=\"0.0\" y1=\"280.0\" y2=\"141.435928\" /><line fill=\"#800080\" stroke=\"#a020f0\" stroke-width=\"1\" x1=\"240.0\" x2=\"400.0\" y1=\"280.0\" y2=\"187.623952\" /><line fill=\"#800080\" stroke=\"#add8e6\" stroke-width=\"1\" x1=\"226.0\" x2=\"160.0\" y1=\"272.0\" y2=\"272.0\" /><line fill=\"#800080\" stroke=\"#d3d3d3\" stroke-width=\"1\" x1=\"228.0\" x2=\"82.99075407413602\" y1=\"266.4\" y2=\"198.7810781214881\" /><line fill=\"#800080\" stroke=\"#d3d3d3\" stroke-width=\"1\" x1=\"231.20000000000002\" x2=\"128.35398245015372\" y1=\"264.0\" y2=\"141.4328891009635\" /><line fill=\"#800080\" stroke=\"#d3d3d3\" stroke-width=\"1\" x1=\"236.0\" x2=\"194.5889527835967\" y1=\"262.0\" y2=\"107.45186779374905\" /><line fill=\"#800080\" stroke=\"#d3d3d3\" stroke-width=\"1\" x1=\"244.0\" x2=\"285.4110472164033\" y1=\"262.0\" y2=\"107.45186779374905\" /><line fill=\"#800080\" stroke=\"#d3d3d3\" stroke-width=\"1\" x1=\"248.79999999999998\" x2=\"351.6460175498463\" y1=\"264.0\" y2=\"141.4328891009635\" /><line fill=\"#800080\" stroke=\"#d3d3d3\" stroke-width=\"1\" x1=\"252.0\" x2=\"397.009245925864\" y1=\"266.4\" y2=\"198.7810781214881\" /><line fill=\"#800080\" stroke=\"#add8e6\" stroke-width=\"1\" x1=\"254.0\" x2=\"400.0\" y1=\"272.0\" y2=\"272.0\" /><line fill=\"#800080\" stroke=\"#add8e6\" stroke-width=\"1\" x1=\"254.0\" x2=\"400.0\" y1=\"288.0\" y2=\"288.0\" /><line fill=\"#800080\" stroke=\"#d3d3d3\" stroke-width=\"1\" x1=\"252.0\" x2=\"397.00924592586404\" y1=\"293.6\" y2=\"361.2189218785119\" /><line fill=\"#800080\" stroke=\"#add8e6\" stroke-width=\"1\" x1=\"248.79999999999998\" x2=\"336.0663613686587\" y1=\"296.0\" y2=\"400.0\" /><line fill=\"#800080\" stroke=\"#add8e6\" stroke-width=\"1\" x1=\"244.0\" x2=\"271.33081682596605\" y1=\"298.0\" y2=\"400.0\" /><line fill=\"#800080\" stroke=\"#add8e6\" stroke-width=\"1\" x1=\"236.0\" x2=\"208.66918317403395\" y1=\"298.0\" y2=\"400.0\" /><line fill=\"#800080\" stroke=\"#add8e6\" stroke-width=\"1\" x1=\"231.20000000000002\" x2=\"143.93363863134124\" y1=\"296.0\" y2=\"400.0\" /><line fill=\"#800080\" stroke=\"#d3d3d3\" stroke-width=\"1\" x1=\"228.0\" x2=\"82.99075407413599\" y1=\"293.6\" y2=\"361.2189218785119\" /><line fill=\"#800080\" stroke=\"#add8e6\" stroke-width=\"1\" x1=\"226.0\" x2=\"160.0\" y1=\"288.0\" y2=\"288.0\" /><line fill=\"#800080\" stroke=\"#ffa500\" stroke-width=\"1\" x1=\"320.0\" x2=\"226.0\" y1=\"80.0\" y2=\"262.0\" /><line fill=\"#800080\" stroke=\"#ffa500\" stroke-width=\"1\" x1=\"320.0\" x2=\"254.0\" y1=\"80.0\" y2=\"262.0\" /><line fill=\"#800080\" stroke=\"#a020f0\" stroke-width=\"1\" x1=\"240.0\" x2=\"0.0\" y1=\"280.0\" y2=\"141.435928\" /><line fill=\"#800080\" stroke=\"#a020f0\" stroke-width=\"1\" x1=\"240.0\" x2=\"400.0\" y1=\"280.0\" y2=\"187.623952\" /><polygon fill=\"red\" points=\"233.6,262.0 226.0,268.0 226.0,292.0 233.6,298.0 246.4,298.0 254.0,292.0 254.0,268.0 246.4,262.0\" stroke=\"red\" stroke-width=\"1\" /><polygon points=\"-4.0,-4.0 0,0 4.0,-4.0 0,4.0\" stroke=\"black\" stroke-width=\"1\" transform=\"translate(240.0,280.0) rotate(180.0)\" /><polygon fill=\"black\" points=\"244.8,268.8 244.8,275.2 235.2,275.2 235.2,268.8\" stroke=\"black\" stroke-width=\"1\" /><line fill=\"#800080\" stroke=\"black\" stroke-width=\"1\" x1=\"230.39999999999998\" x2=\"249.60000000000002\" y1=\"262.0\" y2=\"262.0\" /><polygon fill=\"black\" points=\"230.39999999999998,262.0 230.39999999999998,246.0 232.0,246.0 232.0,262.0\" stroke=\"black\" stroke-width=\"1\" /><polygon fill=\"black\" points=\"248.0,262.0 248.0,246.0 249.60000000000002,246.0 249.60000000000002,262.0\" stroke=\"black\" stroke-width=\"1\" /><circle cx=\"226.0\" cy=\"262.0\" fill=\"yellow\" r=\"2.0\" stroke=\"orange\" stroke-width=\"1\" /><circle cx=\"254.0\" cy=\"262.0\" fill=\"yellow\" r=\"2.0\" stroke=\"orange\" stroke-width=\"1\" /><polygon fill=\"black\" points=\"244.8,268.8 244.8,275.2 235.2,275.2 235.2,268.8\" stroke=\"black\" stroke-width=\"1\" /></svg>"
      ],
      "text/plain": [
       "<jyro.simulator.canvas.Canvas at 0x7fb159ea4250>"
      ]
     },
     "execution_count": 37,
     "metadata": {},
     "output_type": "execute_result"
    }
   ],
   "source": [
    "robot.setPose(3, 1.5, a = 0)\n",
    "vsim.update()\n",
    "vsim.canvas"
   ]
  },
  {
   "cell_type": "code",
   "execution_count": 38,
   "metadata": {},
   "outputs": [
    {
     "name": "stdout",
     "output_type": "stream",
     "text": [
      "exact distance:  1.0\n",
      "expected distance:  0.8249131184071299\n",
      "accuracy:  82.491311840713 %\n",
      "standard deviation:  0.004637214073710566\n",
      "precision:  99.43785424546711 %\n"
     ]
    }
   ],
   "source": [
    "exact_distance=1.0\n",
    "measurements=[]\n",
    "for i in range(10000):\n",
    "    measurements.append(robot.device['sonar'].getData()[15])\n",
    "expected_distance=np.average(np.array(measurements))\n",
    "accuracy=100*(1-np.abs(expected_distance-exact_distance)/exact_distance)\n",
    "print(\"exact distance: \", exact_distance)\n",
    "print(\"expected distance: \", expected_distance)\n",
    "print(\"accuracy: \", accuracy,\"%\")\n",
    "\n",
    "# compute the standard deviation\n",
    "print(\"standard deviation: \", np.std(np.array(measurements)))\n",
    "print(\"precision: \", 100*(1-np.std(np.array(measurements))/expected_distance), \"%\")"
   ]
  },
  {
   "cell_type": "code",
   "execution_count": 39,
   "metadata": {},
   "outputs": [],
   "source": [
    "# TODO. Find the BLUE out of SoNar[0] and sonar[15]. Show that the BLUE is unbiased and more precise."
   ]
  },
  {
   "cell_type": "markdown",
   "metadata": {},
   "source": [
    "3. Bayesian Fusion - A Generic Formulation of Fusion (What is it?)\n",
    "\n",
    "![Bayesian Fusion](imgs/bayes.png \"Bayesian Fusion\" )\n",
    "\n",
    "Imagine that we are interested in measuring the distance between the robot and specific objects in the scene. Let take as target object the robot storage room."
   ]
  },
  {
   "cell_type": "code",
   "execution_count": 40,
   "metadata": {},
   "outputs": [
    {
     "data": {
      "image/svg+xml": [
       "<svg baseProfile=\"full\" height=\"400\" version=\"1.1\" width=\"400\" xmlns=\"http://www.w3.org/2000/svg\" xmlns:ev=\"http://www.w3.org/2001/xml-events\" xmlns:xlink=\"http://www.w3.org/1999/xlink\"><defs /><rect fill=\"#eef3dd\" height=\"400.0\" stroke=\"#d3d3d3\" stroke-width=\"1\" width=\"400.0\" x=\"0.0\" y=\"0.0\" /><rect fill=\"#a020f0\" height=\"80.0\" stroke=\"#a020f0\" stroke-width=\"1\" width=\"80.0\" x=\"80.0\" y=\"240.0\" /><rect fill=\"#ff0000\" height=\"7.999999999999972\" stroke=\"#ff0000\" stroke-width=\"1\" width=\"8.0\" x=\"80.0\" y=\"72.00000000000003\" /><circle cx=\"320.0\" cy=\"80.0\" fill=\"rgba(255,255,0,0.25098039215686274)\" r=\"20.0\" stroke=\"rgba(255,255,0,0.25098039215686274)\" stroke-width=\"1\" /><line fill=\"#800080\" stroke=\"#a020f0\" stroke-width=\"1\" x1=\"100.0\" x2=\"0.0\" y1=\"160.0\" y2=\"102.264968\" /><line fill=\"#800080\" stroke=\"#a020f0\" stroke-width=\"1\" x1=\"100.0\" x2=\"377.12811788614295\" y1=\"160.0\" y2=\"0.0\" /><line fill=\"#800080\" stroke=\"#add8e6\" stroke-width=\"1\" x1=\"86.0\" x2=\"0.0\" y1=\"152.0\" y2=\"152.0\" /><line fill=\"#800080\" stroke=\"#add8e6\" stroke-width=\"1\" x1=\"88.0\" x2=\"0.0\" y1=\"146.4\" y2=\"105.36492800000002\" /><line fill=\"#800080\" stroke=\"#add8e6\" stroke-width=\"1\" x1=\"91.20000000000002\" x2=\"0.0\" y1=\"144.0\" y2=\"35.31207199999997\" /><line fill=\"#800080\" stroke=\"#add8e6\" stroke-width=\"1\" x1=\"96.0\" x2=\"57.951215455052214\" y1=\"142.0\" y2=\"0.0\" /><line fill=\"#800080\" stroke=\"#add8e6\" stroke-width=\"1\" x1=\"104.0\" x2=\"142.04878454494778\" y1=\"142.0\" y2=\"0.0\" /><line fill=\"#800080\" stroke=\"#d3d3d3\" stroke-width=\"1\" x1=\"108.80000000000001\" x2=\"211.6460175498463\" y1=\"144.0\" y2=\"21.43288910096352\" /><line fill=\"#800080\" stroke=\"#d3d3d3\" stroke-width=\"1\" x1=\"112.0\" x2=\"257.009245925864\" y1=\"146.4\" y2=\"78.78107812148812\" /><line fill=\"#800080\" stroke=\"#d3d3d3\" stroke-width=\"1\" x1=\"114.0\" x2=\"274.0\" y1=\"152.0\" y2=\"152.0\" /><line fill=\"#800080\" stroke=\"#d3d3d3\" stroke-width=\"1\" x1=\"114.0\" x2=\"274.0\" y1=\"168.0\" y2=\"168.0\" /><line fill=\"#800080\" stroke=\"#d3d3d3\" stroke-width=\"1\" x1=\"112.0\" x2=\"257.009245925864\" y1=\"173.6\" y2=\"241.21892187851188\" /><line fill=\"#800080\" stroke=\"#d3d3d3\" stroke-width=\"1\" x1=\"108.79999999999998\" x2=\"211.64601754984628\" y1=\"176.0\" y2=\"298.5671108990365\" /><line fill=\"#800080\" stroke=\"#add8e6\" stroke-width=\"1\" x1=\"104.0\" x2=\"120.6128491069843\" y1=\"178.0\" y2=\"240.0\" /><line fill=\"#800080\" stroke=\"#d3d3d3\" stroke-width=\"1\" x1=\"96.0\" x2=\"54.58895278359663\" y1=\"178.0\" y2=\"332.54813220625095\" /><line fill=\"#800080\" stroke=\"#add8e6\" stroke-width=\"1\" x1=\"91.19999999999999\" x2=\"0.0\" y1=\"176.0\" y2=\"284.687928\" /><line fill=\"#800080\" stroke=\"#add8e6\" stroke-width=\"1\" x1=\"88.0\" x2=\"0.0\" y1=\"173.6\" y2=\"214.63507199999998\" /><line fill=\"#800080\" stroke=\"#add8e6\" stroke-width=\"1\" x1=\"86.0\" x2=\"0.0\" y1=\"168.0\" y2=\"168.0\" /><line fill=\"#800080\" stroke=\"#ffa500\" stroke-width=\"1\" x1=\"320.0\" x2=\"86.0\" y1=\"80.0\" y2=\"142.0\" /><line fill=\"#800080\" stroke=\"#ffa500\" stroke-width=\"1\" x1=\"320.0\" x2=\"114.0\" y1=\"80.0\" y2=\"142.0\" /><line fill=\"#800080\" stroke=\"#a020f0\" stroke-width=\"1\" x1=\"100.0\" x2=\"0.0\" y1=\"160.0\" y2=\"102.264968\" /><line fill=\"#800080\" stroke=\"#a020f0\" stroke-width=\"1\" x1=\"100.0\" x2=\"377.12811788614295\" y1=\"160.0\" y2=\"0.0\" /><polygon fill=\"red\" points=\"93.6,142.0 86.0,148.0 86.0,172.0 93.6,178.0 106.4,178.0 114.0,172.0 114.0,148.0 106.4,142.0\" stroke=\"red\" stroke-width=\"1\" /><polygon points=\"-4.0,-4.0 0,0 4.0,-4.0 0,4.0\" stroke=\"black\" stroke-width=\"1\" transform=\"translate(100.0,160.0) rotate(180.0)\" /><polygon fill=\"black\" points=\"104.80000000000001,148.79999999999998 104.80000000000001,155.2 95.19999999999999,155.2 95.19999999999999,148.79999999999998\" stroke=\"black\" stroke-width=\"1\" /><line fill=\"#800080\" stroke=\"black\" stroke-width=\"1\" x1=\"90.39999999999999\" x2=\"109.60000000000001\" y1=\"142.0\" y2=\"142.0\" /><polygon fill=\"black\" points=\"90.39999999999999,142.0 90.39999999999999,126.00000000000001 92.0,126.00000000000001 92.0,142.0\" stroke=\"black\" stroke-width=\"1\" /><polygon fill=\"black\" points=\"108.0,142.0 108.0,126.00000000000001 109.60000000000001,126.00000000000001 109.60000000000001,142.0\" stroke=\"black\" stroke-width=\"1\" /><circle cx=\"86.0\" cy=\"142.0\" fill=\"yellow\" r=\"2.0\" stroke=\"orange\" stroke-width=\"1\" /><circle cx=\"114.0\" cy=\"142.0\" fill=\"yellow\" r=\"2.0\" stroke=\"orange\" stroke-width=\"1\" /><polygon fill=\"black\" points=\"104.80000000000001,148.79999999999998 104.80000000000001,155.2 95.19999999999999,155.2 95.19999999999999,148.79999999999998\" stroke=\"black\" stroke-width=\"1\" /></svg>"
      ],
      "text/plain": [
       "<jyro.simulator.canvas.Canvas at 0x7fb159ea4250>"
      ]
     },
     "execution_count": 40,
     "metadata": {},
     "output_type": "execute_result"
    }
   ],
   "source": [
    "robot.setPose(1.25, 3., a=0.)\n",
    "cam1_pose=robot.getPose()\n",
    "vsim.update()\n",
    "vsim.canvas"
   ]
  },
  {
   "cell_type": "code",
   "execution_count": 41,
   "metadata": {},
   "outputs": [
    {
     "name": "stdout",
     "output_type": "stream",
     "text": [
      "[229.   0.   0.]\n",
      "Rd Room Depth:  1.0196078419685364\n"
     ]
    }
   ],
   "source": [
    "# The prior knowledge Kt about the world tells us that the storage room is red painted (see line [2]).\n",
    "# Probability is 1.0. If two colors possible, then probability is 1/2\n",
    "\n",
    "# Based on this knowledge, we identify position on the room on the color image (see line [31]). \n",
    "# There is only one red object in the world, so the probability of this match is 1.0. if two objects, probability is 1/2 \n",
    "x_room,y_room=(20, 24)\n",
    "print(robot.device['camera'].getData()[x_room, y_room,:]*255)\n",
    "# Based on this position, we extract the depth of the room from the depth image (see line [23])\n",
    "# Probability depends on the accuracy and precision of the depth camera\n",
    "print(\"Rd Room Depth: \", (1-np.max(robot.device['depth_camera'].getData()[x_room, y_room,:]))*robot.device['depth_camera'].maxDist)\n",
    "\n"
   ]
  },
  {
   "cell_type": "markdown",
   "metadata": {},
   "source": [
    "# Exercise 4: Sensor Noise and Denoising\n",
    "\n",
    "We have seen that sensor data are subject to noise (random and systematic errors) and would require to undergo a denoising process, consisting in discarding noise from data, before using the data. Though some representation and processing frameworks such as bayesian networks, deep neural networks take this noise into consideration, most cheaper and efficient approaches requires an explicit denoising of the sensor data. We consider two fundamental denoising techniques namely the Decomposition-Filtering technique and the interpolation technique.\n",
    "\n",
    "\n",
    "![Sensor Noise](imgs/noise.png \"Sensor Noise\" )\n"
   ]
  },
  {
   "cell_type": "markdown",
   "metadata": {},
   "source": [
    "1. Decomposition-Filtering Denoising Technique\n",
    "\n",
    "Any signal is made up of components, constant components (e.g., systematic errors), high-frequency components (e.g., random errors) and low-frequency components (e.g., exact signal). For denoising, the signal is decomposed into components, undesired components are filtered out and the signal is reconstructed from remaining desired components.\n",
    "\n",
    "![Fourier Denoising](imgs/fourier.png \"Fourier Denoising\" )\n"
   ]
  },
  {
   "cell_type": "code",
   "execution_count": 42,
   "metadata": {},
   "outputs": [
    {
     "data": {
      "image/jpeg": "[encoded data removed]",
      "image/png": "[encoded data removed]",
      "text/plain": [
       "<PIL.Image.Image image mode=RGB size=60x40>"
      ]
     },
     "execution_count": 42,
     "metadata": {},
     "output_type": "execute_result"
    }
   ],
   "source": [
    "# explicit method:  fast fourier transform\n",
    "\n",
    "#save image\n",
    "robot.device['camera'].getImage().save('original_image.png')\n",
    "robot.device['camera'].getImage()"
   ]
  },
  {
   "cell_type": "code",
   "execution_count": 43,
   "metadata": {},
   "outputs": [
    {
     "data": {
      "image/jpeg": "[encoded data removed]",
      "image/png": "[encoded data removed]",
      "text/plain": [
       "<PIL.Image.Image image mode=RGB size=60x40>"
      ]
     },
     "execution_count": 43,
     "metadata": {},
     "output_type": "execute_result"
    }
   ],
   "source": [
    "# noisy image (pepper-and-salt noise)\n",
    "in_image=robot.device['camera'].getData()*255\n",
    "for i in range(in_image.shape[0]):\n",
    "    for j in range(in_image.shape[1]):\n",
    "         if random.random()<0.1:\n",
    "             in_image[i][j]=np.array([255,255,255],dtype='uint8')\n",
    "in_image=np.array(in_image, dtype='uint8')\n",
    "Image.fromarray(in_image).save('noisy_image.png')\n",
    "Image.fromarray(in_image)"
   ]
  },
  {
   "cell_type": "code",
   "execution_count": 44,
   "metadata": {},
   "outputs": [
    {
     "data": {
      "image/jpeg": "[encoded data removed]",
      "image/png": "[encoded data removed]",
      "text/plain": [
       "<PIL.Image.Image image mode=L size=60x40>"
      ]
     },
     "execution_count": 44,
     "metadata": {},
     "output_type": "execute_result"
    }
   ],
   "source": [
    "#let convert the image to grayscale for simplicity\n",
    "in_gray_image=ImageOps.grayscale(Image.fromarray(in_image)) \n",
    "in_gray_image.save('noisy_gray_image.png')\n",
    "in_gray_image"
   ]
  },
  {
   "cell_type": "code",
   "execution_count": 45,
   "metadata": {},
   "outputs": [
    {
     "data": {
      "text/plain": [
       "Text(0.5, 1.0, 'Fourier Image Decomposition')"
      ]
     },
     "execution_count": 45,
     "metadata": {},
     "output_type": "execute_result"
    },
    {
     "data": {
      "image/png": "[encoded data removed]",
      "text/plain": [
       "<Figure size 640x480 with 2 Axes>"
      ]
     },
     "metadata": {},
     "output_type": "display_data"
    }
   ],
   "source": [
    "# decompose noisy image\n",
    "in_gray_image=np.array(in_gray_image)\n",
    "decomposed_image= fftpack.fft2(in_gray_image)\n",
    "#print(np.abs(decomposed_image))\n",
    "plt.imshow(np.abs(decomposed_image),norm=LogNorm())\n",
    "plt.colorbar()\n",
    "plt.title('Fourier Image Decomposition')"
   ]
  },
  {
   "cell_type": "code",
   "execution_count": 46,
   "metadata": {},
   "outputs": [
    {
     "data": {
      "text/plain": [
       "Text(0.5, 1.0, 'Filtered Fourier Decomposition')"
      ]
     },
     "execution_count": 46,
     "metadata": {},
     "output_type": "execute_result"
    },
    {
     "data": {
      "image/png": "[encoded data removed]",
      "text/plain": [
       "<Figure size 640x480 with 2 Axes>"
      ]
     },
     "metadata": {},
     "output_type": "display_data"
    }
   ],
   "source": [
    "# remove all other components except very low and high frequency components\n",
    "\n",
    "kernel = 0.2\n",
    "decomposed_image2 = decomposed_image.copy()\n",
    "row, col = decomposed_image2.shape\n",
    "\n",
    "# Zero the undesired coefficients of the undesired components\n",
    "decomposed_image2[int(row*kernel):int(row*(1-kernel))] = 0\n",
    "decomposed_image2[:, int(col*kernel):int(col*(1-kernel))] = 0\n",
    "\n",
    "plt.imshow(np.abs(decomposed_image2),norm=LogNorm())\n",
    "plt.colorbar()\n",
    "plt.title('Filtered Fourier Decomposition')"
   ]
  },
  {
   "cell_type": "code",
   "execution_count": 47,
   "metadata": {},
   "outputs": [
    {
     "data": {
      "image/jpeg": "[encoded data removed]",
      "image/png": "[encoded data removed]",
      "text/plain": [
       "<PIL.Image.Image image mode=L size=60x40>"
      ]
     },
     "execution_count": 47,
     "metadata": {},
     "output_type": "execute_result"
    },
    {
     "data": {
      "image/png": "[encoded data removed]",
      "text/plain": [
       "<Figure size 640x480 with 1 Axes>"
      ]
     },
     "metadata": {},
     "output_type": "display_data"
    }
   ],
   "source": [
    "# reconstruct image with filtered fourier decomposition\n",
    "out_image = fftpack.ifft2(decomposed_image2).real\n",
    "denoised_image=Image.fromarray(np.array(np.floor(out_image), dtype='uint8'))\n",
    "denoised_image.save('denoised_image.png')\n",
    "plt.imshow(out_image, plt.cm.gray)\n",
    "plt.title('Reconstructed Image')\n",
    "denoised_image"
   ]
  },
  {
   "cell_type": "code",
   "execution_count": 48,
   "metadata": {},
   "outputs": [],
   "source": [
    "# implicit method: weighted moving average - Infinite Inpulse Response Low-Pass Filter\n",
    "# y[n+1]=alpha*y[n] + (1-alpha)*x[n+1]"
   ]
  },
  {
   "cell_type": "code",
   "execution_count": 49,
   "metadata": {},
   "outputs": [
    {
     "data": {
      "image/jpeg": "[encoded data removed]",
      "image/png": "[encoded data removed]",
      "text/plain": [
       "<PIL.Image.Image image mode=L size=60x40>"
      ]
     },
     "execution_count": 49,
     "metadata": {},
     "output_type": "execute_result"
    }
   ],
   "source": [
    "# implicit method: Gaussian filter or blurring\n",
    "#filtered_image = Image.fromarray(in_image).filter(ImageFilter.GaussianBlur(radius=2))\n",
    "filtered_image = Image.fromarray(in_gray_image).filter(ImageFilter.GaussianBlur(radius=2))\n",
    "filtered_image.save('denoised_gaussian_image.png')\n",
    "filtered_image"
   ]
  },
  {
   "cell_type": "code",
   "execution_count": 50,
   "metadata": {},
   "outputs": [
    {
     "data": {
      "image/jpeg": "[encoded data removed]",
      "image/png": "[encoded data removed]",
      "text/plain": [
       "<PIL.Image.Image image mode=L size=60x40>"
      ]
     },
     "execution_count": 50,
     "metadata": {},
     "output_type": "execute_result"
    }
   ],
   "source": [
    "# implicit method: Median filter\n",
    "#filtered_image = Image.fromarray(in_image).filter(ImageFilter.MedianFilter(size=3))\n",
    "filtered_image = Image.fromarray(in_gray_image).filter(ImageFilter.MedianFilter(size=5))\n",
    "filtered_image.save('denoised_median_image.png')\n",
    "filtered_image"
   ]
  },
  {
   "cell_type": "code",
   "execution_count": 51,
   "metadata": {},
   "outputs": [
    {
     "data": {
      "image/jpeg": "[encoded data removed]",
      "image/png": "[encoded data removed]",
      "text/plain": [
       "<PIL.Image.Image image mode=L size=60x40>"
      ]
     },
     "execution_count": 51,
     "metadata": {},
     "output_type": "execute_result"
    }
   ],
   "source": [
    "# implicit method: Mode filtering\n",
    "#filtered_image = Image.fromarray(in_image).filter(ImageFilter.ModeFilter(size=3))\n",
    "filtered_image = Image.fromarray(in_gray_image).filter(ImageFilter.ModeFilter(size=5))\n",
    "filtered_image.save('denoised_mode_image.png')\n",
    "filtered_image"
   ]
  },
  {
   "cell_type": "markdown",
   "metadata": {},
   "source": [
    "2. Interpolation Denoising Technique\n",
    "\n",
    "Noise can also originate from missing value due to poor sensor range, resolution, interaction, failure, ... The interpolation is a wide-spread technique which allows in this case to recover missing value. The technique is also used when downscaling the sensor data for fast processing.\n",
    "\n",
    "![Interpolation](imgs/interpolation.png \"Interpolation\" )\n",
    "\n",
    "Let apply this technique to get a full-range sonar instead of just a 16-range. "
   ]
  },
  {
   "cell_type": "code",
   "execution_count": 52,
   "metadata": {},
   "outputs": [
    {
     "data": {
      "image/png": "[encoded data removed]",
      "text/plain": [
       "<Figure size 640x480 with 1 Axes>"
      ]
     },
     "metadata": {},
     "output_type": "display_data"
    }
   ],
   "source": [
    "# get the sonar data\n",
    "x_sonar=np.arange(16)\n",
    "y_sonar=robot.device['sonar'].getData()\n",
    "plt.scatter(x_sonar, y_sonar,color = '#0000FF')\n",
    "denoised_sonar = CubicSpline(x_sonar,y_sonar,bc_type='natural')\n",
    "xs_sonar=np.arange(0,16,0.1)\n",
    "ys_sonar=denoised_sonar(xs_sonar)\n",
    "plt.plot(xs_sonar, ys_sonar,color = '#FF0000')\n",
    "plt.show()"
   ]
  },
  {
   "cell_type": "markdown",
   "metadata": {},
   "source": [
    "# GO AND LEARN MORE (MERY CHRISTMAS AND HAPPY NEW YEAR)"
   ]
  }
 ],
 "metadata": {
  "kernelspec": {
   "display_name": "envname",
   "language": "python",
   "name": "python3"
  },
  "language_info": {
   "codemirror_mode": {
    "name": "ipython",
    "version": 3
   },
   "file_extension": ".py",
   "mimetype": "text/x-python",
   "name": "python",
   "nbconvert_exporter": "python",
   "pygments_lexer": "ipython3",
   "version": "3.12.7"
  }
 },
 "nbformat": 4,
 "nbformat_minor": 4
}
